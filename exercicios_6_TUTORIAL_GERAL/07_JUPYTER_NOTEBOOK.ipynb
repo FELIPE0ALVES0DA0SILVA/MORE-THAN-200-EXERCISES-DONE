{
 "nbformat": 4,
 "nbformat_minor": 2,
 "metadata": {
  "language_info": {
   "name": "python",
   "codemirror_mode": {
    "name": "ipython",
    "version": 3
   },
   "version": "3.8.1-final"
  },
  "orig_nbformat": 2,
  "file_extension": ".py",
  "mimetype": "text/x-python",
  "name": "python",
  "npconvert_exporter": "python",
  "pygments_lexer": "ipython3",
  "version": 3,
  "kernelspec": {
   "name": "python38132bitd0b1f403250845e78ad71591a10ce5cd",
   "display_name": "Python 3.8.1 32-bit"
  }
 },
 "cells": [
  {
   "cell_type": "code",
   "execution_count": 1,
   "metadata": {},
   "outputs": [
    {
     "name": "stdout",
     "output_type": "stream",
     "text": "Hallo world!\n"
    }
   ],
   "source": [
    "print('Hallo world!')"
   ]
  },
  {
   "cell_type": "markdown",
   "metadata": {},
   "source": [
    "# FELIPE ALVES DA SILVA\n",
    "\n",
    "*jÁ ME FALARAM DE VOCÊ*\n",
    "\n",
    "## UM DIA, SE TU GANHARES DINHEIRO, SERÁ TALVEZ BEM SUCEDIDO\n",
    "\n",
    "APENAS UM TALVEZ...\n",
    "\n",
    "### BOA TARDE"
   ]
  },
  {
   "cell_type": "code",
   "execution_count": null,
   "metadata": {},
   "outputs": [],
   "source": []
  },
  {
   "cell_type": "code",
   "execution_count": null,
   "metadata": {},
   "outputs": [],
   "source": []
  }
 ]
}