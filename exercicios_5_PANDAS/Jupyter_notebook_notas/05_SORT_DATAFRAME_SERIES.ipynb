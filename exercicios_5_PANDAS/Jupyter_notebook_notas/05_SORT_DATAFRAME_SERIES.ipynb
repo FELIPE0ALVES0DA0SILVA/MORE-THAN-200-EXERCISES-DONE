{
 "nbformat": 4,
 "nbformat_minor": 2,
 "metadata": {
  "language_info": {
   "name": "python",
   "codemirror_mode": {
    "name": "ipython",
    "version": 3
   },
   "version": "3.8.1-final"
  },
  "orig_nbformat": 2,
  "file_extension": ".py",
  "mimetype": "text/x-python",
  "name": "python",
  "npconvert_exporter": "python",
  "pygments_lexer": "ipython3",
  "version": 3,
  "kernelspec": {
   "name": "python38132bitd0b1f403250845e78ad71591a10ce5cd",
   "display_name": "Python 3.8.1 32-bit"
  }
 },
 "cells": [
  {
   "cell_type": "code",
   "execution_count": 2,
   "metadata": {},
   "outputs": [],
   "source": [
    "import pandas as pd"
   ]
  },
  {
   "cell_type": "code",
   "execution_count": 3,
   "metadata": {},
   "outputs": [
    {
     "data": {
      "text/html": "<div>\n<style scoped>\n    .dataframe tbody tr th:only-of-type {\n        vertical-align: middle;\n    }\n\n    .dataframe tbody tr th {\n        vertical-align: top;\n    }\n\n    .dataframe thead th {\n        text-align: right;\n    }\n</style>\n<table border=\"1\" class=\"dataframe\">\n  <thead>\n    <tr style=\"text-align: right;\">\n      <th></th>\n      <th>star_rating</th>\n      <th>title</th>\n      <th>content_rating</th>\n      <th>genre</th>\n      <th>duration</th>\n      <th>actors_list</th>\n    </tr>\n  </thead>\n  <tbody>\n    <tr>\n      <th>0</th>\n      <td>9.3</td>\n      <td>The Shawshank Redemption</td>\n      <td>R</td>\n      <td>Crime</td>\n      <td>142</td>\n      <td>[u'Tim Robbins', u'Morgan Freeman', u'Bob Gunt...</td>\n    </tr>\n    <tr>\n      <th>1</th>\n      <td>9.2</td>\n      <td>The Godfather</td>\n      <td>R</td>\n      <td>Crime</td>\n      <td>175</td>\n      <td>[u'Marlon Brando', u'Al Pacino', u'James Caan']</td>\n    </tr>\n    <tr>\n      <th>2</th>\n      <td>9.1</td>\n      <td>The Godfather: Part II</td>\n      <td>R</td>\n      <td>Crime</td>\n      <td>200</td>\n      <td>[u'Al Pacino', u'Robert De Niro', u'Robert Duv...</td>\n    </tr>\n    <tr>\n      <th>3</th>\n      <td>9.0</td>\n      <td>The Dark Knight</td>\n      <td>PG-13</td>\n      <td>Action</td>\n      <td>152</td>\n      <td>[u'Christian Bale', u'Heath Ledger', u'Aaron E...</td>\n    </tr>\n    <tr>\n      <th>4</th>\n      <td>8.9</td>\n      <td>Pulp Fiction</td>\n      <td>R</td>\n      <td>Crime</td>\n      <td>154</td>\n      <td>[u'John Travolta', u'Uma Thurman', u'Samuel L....</td>\n    </tr>\n  </tbody>\n</table>\n</div>",
      "text/plain": "   star_rating                     title content_rating   genre  duration  \\\n0          9.3  The Shawshank Redemption              R   Crime       142   \n1          9.2             The Godfather              R   Crime       175   \n2          9.1    The Godfather: Part II              R   Crime       200   \n3          9.0           The Dark Knight          PG-13  Action       152   \n4          8.9              Pulp Fiction              R   Crime       154   \n\n                                         actors_list  \n0  [u'Tim Robbins', u'Morgan Freeman', u'Bob Gunt...  \n1    [u'Marlon Brando', u'Al Pacino', u'James Caan']  \n2  [u'Al Pacino', u'Robert De Niro', u'Robert Duv...  \n3  [u'Christian Bale', u'Heath Ledger', u'Aaron E...  \n4  [u'John Travolta', u'Uma Thurman', u'Samuel L....  "
     },
     "execution_count": 3,
     "metadata": {},
     "output_type": "execute_result"
    }
   ],
   "source": [
    "movies = pd.read_csv('http://bit.ly/imdbratings')\n",
    "movies.head()"
   ]
  },
  {
   "cell_type": "code",
   "execution_count": 4,
   "metadata": {},
   "outputs": [
    {
     "data": {
      "text/plain": "542     (500) Days of Summer\n5               12 Angry Men\n201         12 Years a Slave\n698                127 Hours\n110    2001: A Space Odyssey\n               ...          \n955         Zero Dark Thirty\n677                   Zodiac\n615               Zombieland\n526                     Zulu\n864                    [Rec]\nName: title, Length: 979, dtype: object"
     },
     "execution_count": 4,
     "metadata": {},
     "output_type": "execute_result"
    }
   ],
   "source": [
    "movies.title.sort_values()"
   ]
  },
  {
   "cell_type": "code",
   "execution_count": 5,
   "metadata": {},
   "outputs": [
    {
     "data": {
      "text/plain": "864                    [Rec]\n526                     Zulu\n615               Zombieland\n677                   Zodiac\n955         Zero Dark Thirty\n               ...          \n110    2001: A Space Odyssey\n698                127 Hours\n201         12 Years a Slave\n5               12 Angry Men\n542     (500) Days of Summer\nName: title, Length: 979, dtype: object"
     },
     "execution_count": 5,
     "metadata": {},
     "output_type": "execute_result"
    }
   ],
   "source": [
    "movies['title'].sort_values(ascending=False)"
   ]
  },
  {
   "cell_type": "code",
   "execution_count": 7,
   "metadata": {},
   "outputs": [
    {
     "data": {
      "text/plain": "0                             The Shawshank Redemption\n1                                        The Godfather\n2                               The Godfather: Part II\n3                                      The Dark Knight\n4                                         Pulp Fiction\n                            ...                       \n974                                            Tootsie\n975                        Back to the Future Part III\n976    Master and Commander: The Far Side of the World\n977                                        Poltergeist\n978                                        Wall Street\nName: title, Length: 979, dtype: object"
     },
     "execution_count": 7,
     "metadata": {},
     "output_type": "execute_result"
    }
   ],
   "source": [
    "movies['title']"
   ]
  },
  {
   "cell_type": "code",
   "execution_count": 11,
   "metadata": {},
   "outputs": [
    {
     "data": {
      "text/html": "<div>\n<style scoped>\n    .dataframe tbody tr th:only-of-type {\n        vertical-align: middle;\n    }\n\n    .dataframe tbody tr th {\n        vertical-align: top;\n    }\n\n    .dataframe thead th {\n        text-align: right;\n    }\n</style>\n<table border=\"1\" class=\"dataframe\">\n  <thead>\n    <tr style=\"text-align: right;\">\n      <th></th>\n      <th>star_rating</th>\n      <th>title</th>\n      <th>content_rating</th>\n      <th>genre</th>\n      <th>duration</th>\n      <th>actors_list</th>\n    </tr>\n  </thead>\n  <tbody>\n    <tr>\n      <th>0</th>\n      <td>9.3</td>\n      <td>The Shawshank Redemption</td>\n      <td>R</td>\n      <td>Crime</td>\n      <td>142</td>\n      <td>[u'Tim Robbins', u'Morgan Freeman', u'Bob Gunt...</td>\n    </tr>\n    <tr>\n      <th>1</th>\n      <td>9.2</td>\n      <td>The Godfather</td>\n      <td>R</td>\n      <td>Crime</td>\n      <td>175</td>\n      <td>[u'Marlon Brando', u'Al Pacino', u'James Caan']</td>\n    </tr>\n    <tr>\n      <th>2</th>\n      <td>9.1</td>\n      <td>The Godfather: Part II</td>\n      <td>R</td>\n      <td>Crime</td>\n      <td>200</td>\n      <td>[u'Al Pacino', u'Robert De Niro', u'Robert Duv...</td>\n    </tr>\n    <tr>\n      <th>3</th>\n      <td>9.0</td>\n      <td>The Dark Knight</td>\n      <td>PG-13</td>\n      <td>Action</td>\n      <td>152</td>\n      <td>[u'Christian Bale', u'Heath Ledger', u'Aaron E...</td>\n    </tr>\n    <tr>\n      <th>4</th>\n      <td>8.9</td>\n      <td>Pulp Fiction</td>\n      <td>R</td>\n      <td>Crime</td>\n      <td>154</td>\n      <td>[u'John Travolta', u'Uma Thurman', u'Samuel L....</td>\n    </tr>\n    <tr>\n      <th>...</th>\n      <td>...</td>\n      <td>...</td>\n      <td>...</td>\n      <td>...</td>\n      <td>...</td>\n      <td>...</td>\n    </tr>\n    <tr>\n      <th>948</th>\n      <td>7.4</td>\n      <td>Frances Ha</td>\n      <td>R</td>\n      <td>Comedy</td>\n      <td>86</td>\n      <td>[u'Greta Gerwig', u'Mickey Sumner', u'Adam Dri...</td>\n    </tr>\n    <tr>\n      <th>949</th>\n      <td>7.4</td>\n      <td>Home Alone</td>\n      <td>PG</td>\n      <td>Comedy</td>\n      <td>103</td>\n      <td>[u'Macaulay Culkin', u'Joe Pesci', u'Daniel St...</td>\n    </tr>\n    <tr>\n      <th>950</th>\n      <td>7.4</td>\n      <td>Bound</td>\n      <td>R</td>\n      <td>Crime</td>\n      <td>108</td>\n      <td>[u'Jennifer Tilly', u'Gina Gershon', u'Joe Pan...</td>\n    </tr>\n    <tr>\n      <th>951</th>\n      <td>7.4</td>\n      <td>Sleepy Hollow</td>\n      <td>R</td>\n      <td>Drama</td>\n      <td>105</td>\n      <td>[u'Johnny Depp', u'Christina Ricci', u'Miranda...</td>\n    </tr>\n    <tr>\n      <th>978</th>\n      <td>7.4</td>\n      <td>Wall Street</td>\n      <td>R</td>\n      <td>Crime</td>\n      <td>126</td>\n      <td>[u'Charlie Sheen', u'Michael Douglas', u'Tamar...</td>\n    </tr>\n  </tbody>\n</table>\n<p>979 rows × 6 columns</p>\n</div>",
      "text/plain": "     star_rating                     title content_rating   genre  duration  \\\n0            9.3  The Shawshank Redemption              R   Crime       142   \n1            9.2             The Godfather              R   Crime       175   \n2            9.1    The Godfather: Part II              R   Crime       200   \n3            9.0           The Dark Knight          PG-13  Action       152   \n4            8.9              Pulp Fiction              R   Crime       154   \n..           ...                       ...            ...     ...       ...   \n948          7.4                Frances Ha              R  Comedy        86   \n949          7.4                Home Alone             PG  Comedy       103   \n950          7.4                     Bound              R   Crime       108   \n951          7.4             Sleepy Hollow              R   Drama       105   \n978          7.4               Wall Street              R   Crime       126   \n\n                                           actors_list  \n0    [u'Tim Robbins', u'Morgan Freeman', u'Bob Gunt...  \n1      [u'Marlon Brando', u'Al Pacino', u'James Caan']  \n2    [u'Al Pacino', u'Robert De Niro', u'Robert Duv...  \n3    [u'Christian Bale', u'Heath Ledger', u'Aaron E...  \n4    [u'John Travolta', u'Uma Thurman', u'Samuel L....  \n..                                                 ...  \n948  [u'Greta Gerwig', u'Mickey Sumner', u'Adam Dri...  \n949  [u'Macaulay Culkin', u'Joe Pesci', u'Daniel St...  \n950  [u'Jennifer Tilly', u'Gina Gershon', u'Joe Pan...  \n951  [u'Johnny Depp', u'Christina Ricci', u'Miranda...  \n978  [u'Charlie Sheen', u'Michael Douglas', u'Tamar...  \n\n[979 rows x 6 columns]"
     },
     "execution_count": 11,
     "metadata": {},
     "output_type": "execute_result"
    }
   ],
   "source": [
    "movies.sort_values('star_rating', ascending=False)"
   ]
  },
  {
   "cell_type": "code",
   "execution_count": 12,
   "metadata": {},
   "outputs": [
    {
     "data": {
      "text/html": "<div>\n<style scoped>\n    .dataframe tbody tr th:only-of-type {\n        vertical-align: middle;\n    }\n\n    .dataframe tbody tr th {\n        vertical-align: top;\n    }\n\n    .dataframe thead th {\n        text-align: right;\n    }\n</style>\n<table border=\"1\" class=\"dataframe\">\n  <thead>\n    <tr style=\"text-align: right;\">\n      <th></th>\n      <th>star_rating</th>\n      <th>title</th>\n      <th>content_rating</th>\n      <th>genre</th>\n      <th>duration</th>\n      <th>actors_list</th>\n    </tr>\n  </thead>\n  <tbody>\n    <tr>\n      <th>86</th>\n      <td>8.4</td>\n      <td>A Clockwork Orange</td>\n      <td>X</td>\n      <td>Crime</td>\n      <td>136</td>\n      <td>[u'Malcolm McDowell', u'Patrick Magee', u'Mich...</td>\n    </tr>\n    <tr>\n      <th>387</th>\n      <td>8.0</td>\n      <td>Midnight Cowboy</td>\n      <td>X</td>\n      <td>Drama</td>\n      <td>113</td>\n      <td>[u'Dustin Hoffman', u'Jon Voight', u'Sylvia Mi...</td>\n    </tr>\n    <tr>\n      <th>913</th>\n      <td>7.5</td>\n      <td>Suspiria</td>\n      <td>X</td>\n      <td>Horror</td>\n      <td>92</td>\n      <td>[u'Jessica Harper', u'Stefania Casini', u'Flav...</td>\n    </tr>\n    <tr>\n      <th>486</th>\n      <td>7.8</td>\n      <td>Evil Dead II</td>\n      <td>X</td>\n      <td>Comedy</td>\n      <td>84</td>\n      <td>[u'Bruce Campbell', u'Sarah Berry', u'Dan Hicks']</td>\n    </tr>\n    <tr>\n      <th>17</th>\n      <td>8.7</td>\n      <td>Seven Samurai</td>\n      <td>UNRATED</td>\n      <td>Drama</td>\n      <td>207</td>\n      <td>[u'Toshir\\xf4 Mifune', u'Takashi Shimura', u'K...</td>\n    </tr>\n    <tr>\n      <th>...</th>\n      <td>...</td>\n      <td>...</td>\n      <td>...</td>\n      <td>...</td>\n      <td>...</td>\n      <td>...</td>\n    </tr>\n    <tr>\n      <th>513</th>\n      <td>7.8</td>\n      <td>Invasion of the Body Snatchers</td>\n      <td>APPROVED</td>\n      <td>Horror</td>\n      <td>80</td>\n      <td>[u'Kevin McCarthy', u'Dana Wynter', u'Larry Ga...</td>\n    </tr>\n    <tr>\n      <th>713</th>\n      <td>7.6</td>\n      <td>The Jungle Book</td>\n      <td>APPROVED</td>\n      <td>Animation</td>\n      <td>78</td>\n      <td>[u'Phil Harris', u'Sebastian Cabot', u'Louis P...</td>\n    </tr>\n    <tr>\n      <th>649</th>\n      <td>7.7</td>\n      <td>Where Eagles Dare</td>\n      <td>NaN</td>\n      <td>Action</td>\n      <td>158</td>\n      <td>[u'Richard Burton', u'Clint Eastwood', u'Mary ...</td>\n    </tr>\n    <tr>\n      <th>936</th>\n      <td>7.4</td>\n      <td>True Grit</td>\n      <td>NaN</td>\n      <td>Adventure</td>\n      <td>128</td>\n      <td>[u'John Wayne', u'Kim Darby', u'Glen Campbell']</td>\n    </tr>\n    <tr>\n      <th>187</th>\n      <td>8.2</td>\n      <td>Butch Cassidy and the Sundance Kid</td>\n      <td>NaN</td>\n      <td>Biography</td>\n      <td>110</td>\n      <td>[u'Paul Newman', u'Robert Redford', u'Katharin...</td>\n    </tr>\n  </tbody>\n</table>\n<p>979 rows × 6 columns</p>\n</div>",
      "text/plain": "     star_rating                               title content_rating  \\\n86           8.4                  A Clockwork Orange              X   \n387          8.0                     Midnight Cowboy              X   \n913          7.5                            Suspiria              X   \n486          7.8                        Evil Dead II              X   \n17           8.7                       Seven Samurai        UNRATED   \n..           ...                                 ...            ...   \n513          7.8      Invasion of the Body Snatchers       APPROVED   \n713          7.6                     The Jungle Book       APPROVED   \n649          7.7                   Where Eagles Dare            NaN   \n936          7.4                           True Grit            NaN   \n187          8.2  Butch Cassidy and the Sundance Kid            NaN   \n\n         genre  duration                                        actors_list  \n86       Crime       136  [u'Malcolm McDowell', u'Patrick Magee', u'Mich...  \n387      Drama       113  [u'Dustin Hoffman', u'Jon Voight', u'Sylvia Mi...  \n913     Horror        92  [u'Jessica Harper', u'Stefania Casini', u'Flav...  \n486     Comedy        84  [u'Bruce Campbell', u'Sarah Berry', u'Dan Hicks']  \n17       Drama       207  [u'Toshir\\xf4 Mifune', u'Takashi Shimura', u'K...  \n..         ...       ...                                                ...  \n513     Horror        80  [u'Kevin McCarthy', u'Dana Wynter', u'Larry Ga...  \n713  Animation        78  [u'Phil Harris', u'Sebastian Cabot', u'Louis P...  \n649     Action       158  [u'Richard Burton', u'Clint Eastwood', u'Mary ...  \n936  Adventure       128    [u'John Wayne', u'Kim Darby', u'Glen Campbell']  \n187  Biography       110  [u'Paul Newman', u'Robert Redford', u'Katharin...  \n\n[979 rows x 6 columns]"
     },
     "execution_count": 12,
     "metadata": {},
     "output_type": "execute_result"
    }
   ],
   "source": [
    "movies.sort_values(['content_rating', 'duration'], ascending=False)"
   ]
  },
  {
   "cell_type": "code",
   "execution_count": null,
   "metadata": {},
   "outputs": [],
   "source": []
  }
 ]
}