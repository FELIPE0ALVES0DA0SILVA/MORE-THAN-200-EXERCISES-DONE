{
 "nbformat": 4,
 "nbformat_minor": 2,
 "metadata": {
  "language_info": {
   "name": "python",
   "codemirror_mode": {
    "name": "ipython",
    "version": 3
   },
   "version": "3.8.1-final"
  },
  "orig_nbformat": 2,
  "file_extension": ".py",
  "mimetype": "text/x-python",
  "name": "python",
  "npconvert_exporter": "python",
  "pygments_lexer": "ipython3",
  "version": 3,
  "kernelspec": {
   "name": "python38132bitd0b1f403250845e78ad71591a10ce5cd",
   "display_name": "Python 3.8.1 32-bit"
  }
 },
 "cells": [
  {
   "cell_type": "code",
   "execution_count": 157,
   "metadata": {},
   "outputs": [],
   "source": [
    "# o que faremos hoje."
   ]
  },
  {
   "cell_type": "code",
   "execution_count": 158,
   "metadata": {},
   "outputs": [],
   "source": [
    "import pandas as pd"
   ]
  },
  {
   "cell_type": "code",
   "execution_count": 159,
   "metadata": {},
   "outputs": [],
   "source": [
    "ufo = pd.read_csv('http://bit.ly/uforeports')"
   ]
  },
  {
   "cell_type": "code",
   "execution_count": 160,
   "metadata": {},
   "outputs": [
    {
     "data": {
      "text/plain": "pandas.core.frame.DataFrame"
     },
     "execution_count": 160,
     "metadata": {},
     "output_type": "execute_result"
    }
   ],
   "source": [
    "type(ufo)"
   ]
  },
  {
   "cell_type": "code",
   "execution_count": 161,
   "metadata": {},
   "outputs": [
    {
     "data": {
      "text/html": "<div>\n<style scoped>\n    .dataframe tbody tr th:only-of-type {\n        vertical-align: middle;\n    }\n\n    .dataframe tbody tr th {\n        vertical-align: top;\n    }\n\n    .dataframe thead th {\n        text-align: right;\n    }\n</style>\n<table border=\"1\" class=\"dataframe\">\n  <thead>\n    <tr style=\"text-align: right;\">\n      <th></th>\n      <th>City</th>\n      <th>Colors Reported</th>\n      <th>Shape Reported</th>\n      <th>State</th>\n      <th>Time</th>\n    </tr>\n  </thead>\n  <tbody>\n    <tr>\n      <th>0</th>\n      <td>Ithaca</td>\n      <td>NaN</td>\n      <td>TRIANGLE</td>\n      <td>NY</td>\n      <td>6/1/1930 22:00</td>\n    </tr>\n    <tr>\n      <th>1</th>\n      <td>Willingboro</td>\n      <td>NaN</td>\n      <td>OTHER</td>\n      <td>NJ</td>\n      <td>6/30/1930 20:00</td>\n    </tr>\n    <tr>\n      <th>2</th>\n      <td>Holyoke</td>\n      <td>NaN</td>\n      <td>OVAL</td>\n      <td>CO</td>\n      <td>2/15/1931 14:00</td>\n    </tr>\n    <tr>\n      <th>3</th>\n      <td>Abilene</td>\n      <td>NaN</td>\n      <td>DISK</td>\n      <td>KS</td>\n      <td>6/1/1931 13:00</td>\n    </tr>\n    <tr>\n      <th>4</th>\n      <td>New York Worlds Fair</td>\n      <td>NaN</td>\n      <td>LIGHT</td>\n      <td>NY</td>\n      <td>4/18/1933 19:00</td>\n    </tr>\n  </tbody>\n</table>\n</div>",
      "text/plain": "                   City Colors Reported Shape Reported State             Time\n0                Ithaca             NaN       TRIANGLE    NY   6/1/1930 22:00\n1           Willingboro             NaN          OTHER    NJ  6/30/1930 20:00\n2               Holyoke             NaN           OVAL    CO  2/15/1931 14:00\n3               Abilene             NaN           DISK    KS   6/1/1931 13:00\n4  New York Worlds Fair             NaN          LIGHT    NY  4/18/1933 19:00"
     },
     "execution_count": 161,
     "metadata": {},
     "output_type": "execute_result"
    }
   ],
   "source": [
    "ufo.head()"
   ]
  },
  {
   "cell_type": "code",
   "execution_count": 162,
   "metadata": {},
   "outputs": [
    {
     "data": {
      "text/plain": "0                      Ithaca\n1                 Willingboro\n2                     Holyoke\n3                     Abilene\n4        New York Worlds Fair\n                 ...         \n18236              Grant Park\n18237             Spirit Lake\n18238             Eagle River\n18239             Eagle River\n18240                    Ybor\nName: City, Length: 18241, dtype: object"
     },
     "execution_count": 162,
     "metadata": {},
     "output_type": "execute_result"
    }
   ],
   "source": [
    "ufo['City']"
   ]
  },
  {
   "cell_type": "code",
   "execution_count": 163,
   "metadata": {},
   "outputs": [
    {
     "data": {
      "text/plain": "pandas.core.series.Series"
     },
     "execution_count": 163,
     "metadata": {},
     "output_type": "execute_result"
    }
   ],
   "source": [
    "type(ufo['City'])"
   ]
  },
  {
   "cell_type": "code",
   "execution_count": 164,
   "metadata": {},
   "outputs": [
    {
     "data": {
      "text/plain": "0        NaN\n1        NaN\n2        NaN\n3        NaN\n4        NaN\n        ... \n18236    NaN\n18237    NaN\n18238    NaN\n18239    RED\n18240    NaN\nName: Colors Reported, Length: 18241, dtype: object"
     },
     "execution_count": 164,
     "metadata": {},
     "output_type": "execute_result"
    }
   ],
   "source": [
    "ufo['Colors Reported']"
   ]
  },
  {
   "cell_type": "code",
   "execution_count": 165,
   "metadata": {},
   "outputs": [
    {
     "data": {
      "text/plain": "0                      Ithaca , NY\n1                 Willingboro , NJ\n2                     Holyoke , CO\n3                     Abilene , KS\n4        New York Worlds Fair , NY\n                   ...            \n18236              Grant Park , IL\n18237             Spirit Lake , IA\n18238             Eagle River , WI\n18239             Eagle River , WI\n18240                    Ybor , FL\nLength: 18241, dtype: object"
     },
     "execution_count": 165,
     "metadata": {},
     "output_type": "execute_result"
    }
   ],
   "source": [
    "ufo.City + ' , ' + ufo.State"
   ]
  },
  {
   "cell_type": "code",
   "execution_count": 166,
   "metadata": {},
   "outputs": [],
   "source": [
    "ufo['Location'] = ufo.City + ' , ' + ufo.State"
   ]
  },
  {
   "cell_type": "code",
   "execution_count": 167,
   "metadata": {},
   "outputs": [
    {
     "data": {
      "text/html": "<div>\n<style scoped>\n    .dataframe tbody tr th:only-of-type {\n        vertical-align: middle;\n    }\n\n    .dataframe tbody tr th {\n        vertical-align: top;\n    }\n\n    .dataframe thead th {\n        text-align: right;\n    }\n</style>\n<table border=\"1\" class=\"dataframe\">\n  <thead>\n    <tr style=\"text-align: right;\">\n      <th></th>\n      <th>City</th>\n      <th>Colors Reported</th>\n      <th>Shape Reported</th>\n      <th>State</th>\n      <th>Time</th>\n      <th>Location</th>\n    </tr>\n  </thead>\n  <tbody>\n    <tr>\n      <th>0</th>\n      <td>Ithaca</td>\n      <td>NaN</td>\n      <td>TRIANGLE</td>\n      <td>NY</td>\n      <td>6/1/1930 22:00</td>\n      <td>Ithaca , NY</td>\n    </tr>\n    <tr>\n      <th>1</th>\n      <td>Willingboro</td>\n      <td>NaN</td>\n      <td>OTHER</td>\n      <td>NJ</td>\n      <td>6/30/1930 20:00</td>\n      <td>Willingboro , NJ</td>\n    </tr>\n    <tr>\n      <th>2</th>\n      <td>Holyoke</td>\n      <td>NaN</td>\n      <td>OVAL</td>\n      <td>CO</td>\n      <td>2/15/1931 14:00</td>\n      <td>Holyoke , CO</td>\n    </tr>\n    <tr>\n      <th>3</th>\n      <td>Abilene</td>\n      <td>NaN</td>\n      <td>DISK</td>\n      <td>KS</td>\n      <td>6/1/1931 13:00</td>\n      <td>Abilene , KS</td>\n    </tr>\n    <tr>\n      <th>4</th>\n      <td>New York Worlds Fair</td>\n      <td>NaN</td>\n      <td>LIGHT</td>\n      <td>NY</td>\n      <td>4/18/1933 19:00</td>\n      <td>New York Worlds Fair , NY</td>\n    </tr>\n  </tbody>\n</table>\n</div>",
      "text/plain": "                   City Colors Reported Shape Reported State             Time  \\\n0                Ithaca             NaN       TRIANGLE    NY   6/1/1930 22:00   \n1           Willingboro             NaN          OTHER    NJ  6/30/1930 20:00   \n2               Holyoke             NaN           OVAL    CO  2/15/1931 14:00   \n3               Abilene             NaN           DISK    KS   6/1/1931 13:00   \n4  New York Worlds Fair             NaN          LIGHT    NY  4/18/1933 19:00   \n\n                    Location  \n0                Ithaca , NY  \n1           Willingboro , NJ  \n2               Holyoke , CO  \n3               Abilene , KS  \n4  New York Worlds Fair , NY  "
     },
     "execution_count": 167,
     "metadata": {},
     "output_type": "execute_result"
    }
   ],
   "source": [
    "ufo.head()"
   ]
  },
  {
   "cell_type": "code",
   "execution_count": 168,
   "metadata": {},
   "outputs": [
    {
     "data": {
      "text/html": "<div>\n<style scoped>\n    .dataframe tbody tr th:only-of-type {\n        vertical-align: middle;\n    }\n\n    .dataframe tbody tr th {\n        vertical-align: top;\n    }\n\n    .dataframe thead th {\n        text-align: right;\n    }\n</style>\n<table border=\"1\" class=\"dataframe\">\n  <thead>\n    <tr style=\"text-align: right;\">\n      <th></th>\n      <th>City</th>\n      <th>Colors Reported</th>\n      <th>Shape Reported</th>\n      <th>State</th>\n      <th>Time</th>\n    </tr>\n  </thead>\n  <tbody>\n    <tr>\n      <th>0</th>\n      <td>Ithaca</td>\n      <td>NaN</td>\n      <td>TRIANGLE</td>\n      <td>NY</td>\n      <td>6/1/1930 22:00</td>\n    </tr>\n    <tr>\n      <th>1</th>\n      <td>Willingboro</td>\n      <td>NaN</td>\n      <td>OTHER</td>\n      <td>NJ</td>\n      <td>6/30/1930 20:00</td>\n    </tr>\n    <tr>\n      <th>2</th>\n      <td>Holyoke</td>\n      <td>NaN</td>\n      <td>OVAL</td>\n      <td>CO</td>\n      <td>2/15/1931 14:00</td>\n    </tr>\n    <tr>\n      <th>3</th>\n      <td>Abilene</td>\n      <td>NaN</td>\n      <td>DISK</td>\n      <td>KS</td>\n      <td>6/1/1931 13:00</td>\n    </tr>\n    <tr>\n      <th>4</th>\n      <td>New York Worlds Fair</td>\n      <td>NaN</td>\n      <td>LIGHT</td>\n      <td>NY</td>\n      <td>4/18/1933 19:00</td>\n    </tr>\n  </tbody>\n</table>\n</div>",
      "text/plain": "                   City Colors Reported Shape Reported State             Time\n0                Ithaca             NaN       TRIANGLE    NY   6/1/1930 22:00\n1           Willingboro             NaN          OTHER    NJ  6/30/1930 20:00\n2               Holyoke             NaN           OVAL    CO  2/15/1931 14:00\n3               Abilene             NaN           DISK    KS   6/1/1931 13:00\n4  New York Worlds Fair             NaN          LIGHT    NY  4/18/1933 19:00"
     },
     "execution_count": 168,
     "metadata": {},
     "output_type": "execute_result"
    }
   ],
   "source": [
    "ufo = pd.read_csv('http://bit.ly/uforeports')\n",
    "ufo.head()"
   ]
  },
  {
   "cell_type": "code",
   "execution_count": 169,
   "metadata": {},
   "outputs": [
    {
     "data": {
      "text/html": "<div>\n<style scoped>\n    .dataframe tbody tr th:only-of-type {\n        vertical-align: middle;\n    }\n\n    .dataframe tbody tr th {\n        vertical-align: top;\n    }\n\n    .dataframe thead th {\n        text-align: right;\n    }\n</style>\n<table border=\"1\" class=\"dataframe\">\n  <thead>\n    <tr style=\"text-align: right;\">\n      <th></th>\n      <th>country</th>\n      <th>beer_servings</th>\n      <th>spirit_servings</th>\n      <th>wine_servings</th>\n      <th>total_litres_of_pure_alcohol</th>\n      <th>continent</th>\n    </tr>\n  </thead>\n  <tbody>\n    <tr>\n      <th>0</th>\n      <td>Afghanistan</td>\n      <td>0</td>\n      <td>0</td>\n      <td>0</td>\n      <td>0.0</td>\n      <td>Asia</td>\n    </tr>\n    <tr>\n      <th>1</th>\n      <td>Albania</td>\n      <td>89</td>\n      <td>132</td>\n      <td>54</td>\n      <td>4.9</td>\n      <td>Europe</td>\n    </tr>\n    <tr>\n      <th>2</th>\n      <td>Algeria</td>\n      <td>25</td>\n      <td>0</td>\n      <td>14</td>\n      <td>0.7</td>\n      <td>Africa</td>\n    </tr>\n    <tr>\n      <th>3</th>\n      <td>Andorra</td>\n      <td>245</td>\n      <td>138</td>\n      <td>312</td>\n      <td>12.4</td>\n      <td>Europe</td>\n    </tr>\n    <tr>\n      <th>4</th>\n      <td>Angola</td>\n      <td>217</td>\n      <td>57</td>\n      <td>45</td>\n      <td>5.9</td>\n      <td>Africa</td>\n    </tr>\n    <tr>\n      <th>...</th>\n      <td>...</td>\n      <td>...</td>\n      <td>...</td>\n      <td>...</td>\n      <td>...</td>\n      <td>...</td>\n    </tr>\n    <tr>\n      <th>188</th>\n      <td>Venezuela</td>\n      <td>333</td>\n      <td>100</td>\n      <td>3</td>\n      <td>7.7</td>\n      <td>South America</td>\n    </tr>\n    <tr>\n      <th>189</th>\n      <td>Vietnam</td>\n      <td>111</td>\n      <td>2</td>\n      <td>1</td>\n      <td>2.0</td>\n      <td>Asia</td>\n    </tr>\n    <tr>\n      <th>190</th>\n      <td>Yemen</td>\n      <td>6</td>\n      <td>0</td>\n      <td>0</td>\n      <td>0.1</td>\n      <td>Asia</td>\n    </tr>\n    <tr>\n      <th>191</th>\n      <td>Zambia</td>\n      <td>32</td>\n      <td>19</td>\n      <td>4</td>\n      <td>2.5</td>\n      <td>Africa</td>\n    </tr>\n    <tr>\n      <th>192</th>\n      <td>Zimbabwe</td>\n      <td>64</td>\n      <td>18</td>\n      <td>4</td>\n      <td>4.7</td>\n      <td>Africa</td>\n    </tr>\n  </tbody>\n</table>\n<p>193 rows × 6 columns</p>\n</div>",
      "text/plain": "         country  beer_servings  spirit_servings  wine_servings  \\\n0    Afghanistan              0                0              0   \n1        Albania             89              132             54   \n2        Algeria             25                0             14   \n3        Andorra            245              138            312   \n4         Angola            217               57             45   \n..           ...            ...              ...            ...   \n188    Venezuela            333              100              3   \n189      Vietnam            111                2              1   \n190        Yemen              6                0              0   \n191       Zambia             32               19              4   \n192     Zimbabwe             64               18              4   \n\n     total_litres_of_pure_alcohol      continent  \n0                             0.0           Asia  \n1                             4.9         Europe  \n2                             0.7         Africa  \n3                            12.4         Europe  \n4                             5.9         Africa  \n..                            ...            ...  \n188                           7.7  South America  \n189                           2.0           Asia  \n190                           0.1           Asia  \n191                           2.5         Africa  \n192                           4.7         Africa  \n\n[193 rows x 6 columns]"
     },
     "execution_count": 169,
     "metadata": {},
     "output_type": "execute_result"
    }
   ],
   "source": [
    "drinks = pd.read_csv('http://bit.ly/drinksbycountry')\n",
    "drinks"
   ]
  },
  {
   "cell_type": "code",
   "execution_count": 170,
   "metadata": {},
   "outputs": [
    {
     "name": "stdout",
     "output_type": "stream",
     "text": "Posição mundial: 91  Posição regional: 1    4.7 litros/pessoa  Zimbabwe   Africa\nPosição mundial: 92  Posição regional: 2    4.7 litros/pessoa  Swaziland   Africa\nPosição mundial: 93  Posição regional: 3    4.6 litros/pessoa  Philippines   Asia\nPosição mundial: 94  Posição regional: 4    4.6 litros/pessoa  Bosnia-Herzegovina   Europe\nPosição mundial: 95  Posição regional: 5    4.4 litros/pessoa  Costa Rica   North America\nPosição mundial: 96  Posição regional: 6    4.3 litros/pessoa  Burkina Faso   Africa\nPosição mundial: 97  Posição regional: 7    4.2 litros/pessoa  Sao Tome & Principe   Africa\nPosição mundial: 98  Posição regional: 8    4.2 litros/pessoa  Ecuador   South America\nPosição mundial: 99  Posição regional: 9    4.2 litros/pessoa  Cuba   North America\nPosição mundial: 100  Posição regional: 10    4.2 litros/pessoa  Colombia   South America\nPosição mundial: 101  Posição regional: 11    4.1 litros/pessoa  Seychelles   Africa\nPosição mundial: 102  Posição regional: 12    4.0 litros/pessoa  Cote d'Ivoire   Africa\nPosição mundial: 103  Posição regional: 13    4.0 litros/pessoa  Cabo Verde   Africa\nPosição mundial: 104  Posição regional: 14    3.9 litros/pessoa  Macedonia   Europe\nPosição mundial: 105  Posição regional: 15    3.8 litros/pessoa  Bolivia   South America\nPosição mundial: 106  Posição regional: 16    3.8 litros/pessoa  Armenia   Europe\nPosição mundial: 107  Posição regional: 17    3.5 litros/pessoa  Nicaragua   North America\nPosição mundial: 108  Posição regional: 18    3.4 litros/pessoa  Jamaica   North America\nPosição mundial: 109  Posição regional: 19    3.1 litros/pessoa  Liberia   Africa\nPosição mundial: 110  Posição regional: 20    3.0 litros/pessoa  Honduras   North America\nPosição mundial: 111  Posição regional: 21    2.8 litros/pessoa  United Arab Emirates   Asia\nPosição mundial: 112  Posição regional: 22    2.8 litros/pessoa  Lesotho   Africa\nPosição mundial: 113  Posição regional: 23    2.6 litros/pessoa  Samoa   Oceania\nPosição mundial: 114  Posição regional: 24    2.6 litros/pessoa  Mauritius   Africa\nPosição mundial: 115  Posição regional: 25    2.5 litros/pessoa  Zambia   Africa\nPosição mundial: 116  Posição regional: 26    2.5 litros/pessoa  Israel   Asia\nPosição mundial: 117  Posição regional: 27    2.5 litros/pessoa  Guinea-Bissau   Africa\nPosição mundial: 118  Posição regional: 28    2.4 litros/pessoa  Uzbekistan   Asia\nPosição mundial: 119  Posição regional: 29    2.4 litros/pessoa  Kyrgyzstan   Asia\nPosição mundial: 120  Posição regional: 30    2.4 litros/pessoa  Gambia   Africa\nPosição mundial: 121  Posição regional: 31    2.3 litros/pessoa  Micronesia   Oceania\nPosição mundial: 122  Posição regional: 32    2.3 litros/pessoa  DR Congo   Africa\nPosição mundial: 123  Posição regional: 33    2.2 litros/pessoa  Turkmenistan   Asia\nPosição mundial: 124  Posição regional: 34    2.2 litros/pessoa  Sri Lanka   Asia\nPosição mundial: 125  Posição regional: 35    2.2 litros/pessoa  India   Asia\nPosição mundial: 126  Posição regional: 36    2.2 litros/pessoa  Guatemala   North America\nPosição mundial: 127  Posição regional: 37    2.2 litros/pessoa  El Salvador   North America\nPosição mundial: 128  Posição regional: 38    2.2 litros/pessoa  Cambodia   Asia\nPosição mundial: 129  Posição regional: 39    2.0 litros/pessoa  Vietnam   Asia\nPosição mundial: 130  Posição regional: 40    2.0 litros/pessoa  Fiji   Oceania\nPosição mundial: 131  Posição regional: 41    2.0 litros/pessoa  Bahrain   Asia\nPosição mundial: 132  Posição regional: 42    1.9 litros/pessoa  Lebanon   Asia\nPosição mundial: 133  Posição regional: 43    1.8 litros/pessoa  Kenya   Africa\nPosição mundial: 134  Posição regional: 44    1.8 litros/pessoa  Ghana   Africa\nPosição mundial: 135  Posição regional: 45    1.8 litros/pessoa  Central African Republic   Africa\nPosição mundial: 136  Posição regional: 46    1.7 litros/pessoa  Sudan   Africa\nPosição mundial: 137  Posição regional: 47    1.7 litros/pessoa  Congo   Africa\nPosição mundial: 138  Posição regional: 48    1.5 litros/pessoa  Singapore   Asia\nPosição mundial: 139  Posição regional: 49    1.5 litros/pessoa  Papua New Guinea   Oceania\nPosição mundial: 140  Posição regional: 50    1.5 litros/pessoa  Malawi   Africa\nPosição mundial: 141  Posição regional: 51    1.4 litros/pessoa  Turkey   Asia\nPosição mundial: 142  Posição regional: 52    1.3 litros/pessoa  Tunisia   Africa\nPosição mundial: 143  Posição regional: 53    1.3 litros/pessoa  Togo   Africa\nPosição mundial: 144  Posição regional: 54    1.3 litros/pessoa  Mozambique   Africa\nPosição mundial: 145  Posição regional: 55    1.3 litros/pessoa  Azerbaijan   Europe\nPosição mundial: 146  Posição regional: 56    1.2 litros/pessoa  Solomon Islands   Oceania\nPosição mundial: 147  Posição regional: 57    1.1 litros/pessoa  Tonga   Oceania\nPosição mundial: 148  Posição regional: 58    1.1 litros/pessoa  Djibouti   Africa\nPosição mundial: 149  Posição regional: 59    1.1 litros/pessoa  Benin   Africa\nPosição mundial: 150  Posição regional: 60    1.0 litros/pessoa  Tuvalu   Oceania\nPosição mundial: 151  Posição regional: 61    1.0 litros/pessoa  Syria   Asia\nPosição mundial: 152  Posição regional: 62    1.0 litros/pessoa  Nauru   Oceania\nPosição mundial: 153  Posição regional: 63    1.0 litros/pessoa  Kiribati   Oceania\nPosição mundial: 154  Posição regional: 64    0.9 litros/pessoa  Vanuatu   Oceania\nPosição mundial: 155  Posição regional: 65    0.9 litros/pessoa  Qatar   Asia\nPosição mundial: 156  Posição regional: 66    0.8 litros/pessoa  Madagascar   Africa\nPosição mundial: 157  Posição regional: 67    0.7 litros/pessoa  Oman   Asia\nPosição mundial: 158  Posição regional: 68    0.7 litros/pessoa  Ethiopia   Africa\nPosição mundial: 159  Posição regional: 69    0.7 litros/pessoa  Algeria   Africa\nPosição mundial: 160  Posição regional: 70    0.6 litros/pessoa  Mali   Africa\nPosição mundial: 161  Posição regional: 71    0.6 litros/pessoa  Brunei   Asia\nPosição mundial: 162  Posição regional: 72    0.5 litros/pessoa  Morocco   Africa\nPosição mundial: 163  Posição regional: 73    0.5 litros/pessoa  Jordan   Asia\nPosição mundial: 164  Posição regional: 74    0.5 litros/pessoa  Eritrea   Africa\nPosição mundial: 165  Posição regional: 75    0.4 litros/pessoa  Chad   Africa\nPosição mundial: 166  Posição regional: 76    0.4 litros/pessoa  Bhutan   Asia\nPosição mundial: 167  Posição regional: 77    0.3 litros/pessoa  Tajikistan   Asia\nPosição mundial: 168  Posição regional: 78    0.3 litros/pessoa  Senegal   Africa\nPosição mundial: 169  Posição regional: 79    0.3 litros/pessoa  Malaysia   Asia\nPosição mundial: 170  Posição regional: 80    0.2 litros/pessoa  Nepal   Asia\nPosição mundial: 171  Posição regional: 81    0.2 litros/pessoa  Iraq   Asia\nPosição mundial: 172  Posição regional: 82    0.2litros/pessoa  Guinea   Africa\nPosição mundial: 173  Posição regional: 83    0.2 litros/pessoa  Egypt   Africa\nPosição mundial: 174  Posição regional: 84    0.1 litros/pessoa  Yemen   Asia\nPosição mundial: 175  Posição regional: 85    0.1 litros/pessoa  Timor-Leste   Asia\nPosição mundial: 176  Posição regional: 86    0.1 litros/pessoa  Saudi Arabia   Asia\nPosição mundial: 177  Posição regional: 87    0.1 litros/pessoa  Niger   Africa\nPosição mundial: 178  Posição regional: 88    0.1 litros/pessoa  Myanmar   Asia\nPosição mundial: 179  Posição regional: 89    0.1 litros/pessoa  Indonesia   Asia\nPosição mundial: 180  Posição regional: 90    0.1 litros/pessoa  Comoros   Africa\nPosição mundial: 181  Posição regional: 91    0.0 litros/pessoa  Somalia   Africa\nPosição mundial: 182  Posição regional: 92    0.0 litros/pessoa  San Marino   Europe\nPosição mundial: 183  Posição regional: 93    0.0 litros/pessoa  Pakistan   Asia\nPosição mundial: 184  Posição regional: 94    0.0 litros/pessoa  North Korea   Asia\nPosição mundial: 185  Posição regional: 95    0.0 litros/pessoa  Monaco   Europe\nPosição mundial: 186  Posição regional: 96    0.0 litros/pessoa  Mauritania   Africa\nPosição mundial: 187  Posição regional: 97    0.0 litros/pessoa  Marshall Islands   Oceania\nPosição mundial: 188  Posição regional: 98    0.0 litros/pessoa  Maldives   Asia\nPosição mundial: 189  Posição regional: 99    0.0 litros/pessoa  Libya   Africa\nPosição mundial: 190  Posição regional: 100    0.0 litros/pessoa  Kuwait   Asia\nPosição mundial: 191  Posição regional: 101    0.0 litros/pessoa  Iran   Asia\nPosição mundial: 192  Posição regional: 102    0.0 litros/pessoa  Bangladesh   Asia\nPosição mundial: 193  Posição regional: 103    0.0 litros/pessoa  Afghanistan   Asia\n"
    }
   ],
   "source": [
    "drinks = pd.read_csv('http://bit.ly/drinksbycountry')\n",
    "drinks = drinks.sort_values(['total_litres_of_pure_alcohol', 'country', 'continent'], ascending=False)\n",
    "count = world = 0\n",
    "for index, row in drinks.iterrows():\n",
    "    world += 1\n",
    "    #if row['continent'] in 'Africa':\n",
    "    if row['total_litres_of_pure_alcohol'] < drinks['total_litres_of_pure_alcohol'].mean():\n",
    "        count += 1\n",
    "        print(f'Posição mundial: {world} ', f'Posição regional: {count}   ',  row['total_litres_of_pure_alcohol'], f'litros/pessoa ', row['country'], ' ', row['continent'])\n"
   ]
  },
  {
   "cell_type": "code",
   "execution_count": 171,
   "metadata": {},
   "outputs": [
    {
     "data": {
      "text/html": "<div>\n<style scoped>\n    .dataframe tbody tr th:only-of-type {\n        vertical-align: middle;\n    }\n\n    .dataframe tbody tr th {\n        vertical-align: top;\n    }\n\n    .dataframe thead th {\n        text-align: right;\n    }\n</style>\n<table border=\"1\" class=\"dataframe\">\n  <thead>\n    <tr style=\"text-align: right;\">\n      <th></th>\n      <th>country</th>\n      <th>beer_servings</th>\n      <th>spirit_servings</th>\n      <th>wine_servings</th>\n      <th>total_litres_of_pure_alcohol</th>\n      <th>continent</th>\n    </tr>\n  </thead>\n  <tbody>\n    <tr>\n      <th>0</th>\n      <td>Afghanistan</td>\n      <td>0</td>\n      <td>0</td>\n      <td>0</td>\n      <td>0.0</td>\n      <td>Asia</td>\n    </tr>\n    <tr>\n      <th>1</th>\n      <td>Albania</td>\n      <td>89</td>\n      <td>132</td>\n      <td>54</td>\n      <td>4.9</td>\n      <td>Europe</td>\n    </tr>\n    <tr>\n      <th>2</th>\n      <td>Algeria</td>\n      <td>25</td>\n      <td>0</td>\n      <td>14</td>\n      <td>0.7</td>\n      <td>Africa</td>\n    </tr>\n    <tr>\n      <th>3</th>\n      <td>Andorra</td>\n      <td>245</td>\n      <td>138</td>\n      <td>312</td>\n      <td>12.4</td>\n      <td>Europe</td>\n    </tr>\n    <tr>\n      <th>4</th>\n      <td>Angola</td>\n      <td>217</td>\n      <td>57</td>\n      <td>45</td>\n      <td>5.9</td>\n      <td>Africa</td>\n    </tr>\n  </tbody>\n</table>\n</div>",
      "text/plain": "       country  beer_servings  spirit_servings  wine_servings  \\\n0  Afghanistan              0                0              0   \n1      Albania             89              132             54   \n2      Algeria             25                0             14   \n3      Andorra            245              138            312   \n4       Angola            217               57             45   \n\n  total_litres_of_pure_alcohol continent  \n0                          0.0      Asia  \n1                          4.9    Europe  \n2                          0.7    Africa  \n3                         12.4    Europe  \n4                          5.9    Africa  "
     },
     "execution_count": 171,
     "metadata": {},
     "output_type": "execute_result"
    }
   ],
   "source": [
    "drinks = pd.read_csv('http://bit.ly/drinksbycountry', dtype = {'total_litres_of_pure_alcohol': str})\n",
    "drinks.head()"
   ]
  },
  {
   "cell_type": "code",
   "execution_count": 172,
   "metadata": {},
   "outputs": [
    {
     "data": {
      "text/html": "<div>\n<style scoped>\n    .dataframe tbody tr th:only-of-type {\n        vertical-align: middle;\n    }\n\n    .dataframe tbody tr th {\n        vertical-align: top;\n    }\n\n    .dataframe thead th {\n        text-align: right;\n    }\n</style>\n<table border=\"1\" class=\"dataframe\">\n  <thead>\n    <tr style=\"text-align: right;\">\n      <th></th>\n      <th>order_id</th>\n      <th>quantity</th>\n      <th>item_name</th>\n      <th>choice_description</th>\n      <th>item_price</th>\n    </tr>\n  </thead>\n  <tbody>\n    <tr>\n      <th>0</th>\n      <td>1</td>\n      <td>1</td>\n      <td>Chips and Fresh Tomato Salsa</td>\n      <td>NaN</td>\n      <td>$2.39</td>\n    </tr>\n    <tr>\n      <th>1</th>\n      <td>1</td>\n      <td>1</td>\n      <td>Izze</td>\n      <td>[Clementine]</td>\n      <td>$3.39</td>\n    </tr>\n    <tr>\n      <th>2</th>\n      <td>1</td>\n      <td>1</td>\n      <td>Nantucket Nectar</td>\n      <td>[Apple]</td>\n      <td>$3.39</td>\n    </tr>\n    <tr>\n      <th>3</th>\n      <td>1</td>\n      <td>1</td>\n      <td>Chips and Tomatillo-Green Chili Salsa</td>\n      <td>NaN</td>\n      <td>$2.39</td>\n    </tr>\n    <tr>\n      <th>4</th>\n      <td>2</td>\n      <td>2</td>\n      <td>Chicken Bowl</td>\n      <td>[Tomatillo-Red Chili Salsa (Hot), [Black Beans...</td>\n      <td>$16.98</td>\n    </tr>\n    <tr>\n      <th>...</th>\n      <td>...</td>\n      <td>...</td>\n      <td>...</td>\n      <td>...</td>\n      <td>...</td>\n    </tr>\n    <tr>\n      <th>4617</th>\n      <td>1833</td>\n      <td>1</td>\n      <td>Steak Burrito</td>\n      <td>[Fresh Tomato Salsa, [Rice, Black Beans, Sour ...</td>\n      <td>$11.75</td>\n    </tr>\n    <tr>\n      <th>4618</th>\n      <td>1833</td>\n      <td>1</td>\n      <td>Steak Burrito</td>\n      <td>[Fresh Tomato Salsa, [Rice, Sour Cream, Cheese...</td>\n      <td>$11.75</td>\n    </tr>\n    <tr>\n      <th>4619</th>\n      <td>1834</td>\n      <td>1</td>\n      <td>Chicken Salad Bowl</td>\n      <td>[Fresh Tomato Salsa, [Fajita Vegetables, Pinto...</td>\n      <td>$11.25</td>\n    </tr>\n    <tr>\n      <th>4620</th>\n      <td>1834</td>\n      <td>1</td>\n      <td>Chicken Salad Bowl</td>\n      <td>[Fresh Tomato Salsa, [Fajita Vegetables, Lettu...</td>\n      <td>$8.75</td>\n    </tr>\n    <tr>\n      <th>4621</th>\n      <td>1834</td>\n      <td>1</td>\n      <td>Chicken Salad Bowl</td>\n      <td>[Fresh Tomato Salsa, [Fajita Vegetables, Pinto...</td>\n      <td>$8.75</td>\n    </tr>\n  </tbody>\n</table>\n<p>4622 rows × 5 columns</p>\n</div>",
      "text/plain": "      order_id  quantity                              item_name  \\\n0            1         1           Chips and Fresh Tomato Salsa   \n1            1         1                                   Izze   \n2            1         1                       Nantucket Nectar   \n3            1         1  Chips and Tomatillo-Green Chili Salsa   \n4            2         2                           Chicken Bowl   \n...        ...       ...                                    ...   \n4617      1833         1                          Steak Burrito   \n4618      1833         1                          Steak Burrito   \n4619      1834         1                     Chicken Salad Bowl   \n4620      1834         1                     Chicken Salad Bowl   \n4621      1834         1                     Chicken Salad Bowl   \n\n                                     choice_description item_price  \n0                                                   NaN     $2.39   \n1                                          [Clementine]     $3.39   \n2                                               [Apple]     $3.39   \n3                                                   NaN     $2.39   \n4     [Tomatillo-Red Chili Salsa (Hot), [Black Beans...    $16.98   \n...                                                 ...        ...  \n4617  [Fresh Tomato Salsa, [Rice, Black Beans, Sour ...    $11.75   \n4618  [Fresh Tomato Salsa, [Rice, Sour Cream, Cheese...    $11.75   \n4619  [Fresh Tomato Salsa, [Fajita Vegetables, Pinto...    $11.25   \n4620  [Fresh Tomato Salsa, [Fajita Vegetables, Lettu...     $8.75   \n4621  [Fresh Tomato Salsa, [Fajita Vegetables, Pinto...     $8.75   \n\n[4622 rows x 5 columns]"
     },
     "execution_count": 172,
     "metadata": {},
     "output_type": "execute_result"
    }
   ],
   "source": [
    "chip = pd.read_table('http://bit.ly/chiporders')\n",
    "chip"
   ]
  },
  {
   "cell_type": "code",
   "execution_count": 173,
   "metadata": {},
   "outputs": [
    {
     "data": {
      "text/plain": "7.464335785374297"
     },
     "execution_count": 173,
     "metadata": {},
     "output_type": "execute_result"
    }
   ],
   "source": [
    "chip['item_price'].str.replace('$', '').astype(float).mean()\n"
   ]
  },
  {
   "cell_type": "code",
   "execution_count": 182,
   "metadata": {},
   "outputs": [
    {
     "data": {
      "text/plain": "0       0\n1       0\n2       0\n3       0\n4       1\n       ..\n4617    0\n4618    0\n4619    1\n4620    1\n4621    1\nName: item_name, Length: 4622, dtype: int32"
     },
     "execution_count": 182,
     "metadata": {},
     "output_type": "execute_result"
    }
   ],
   "source": [
    "chip['item_name'] = chip['item_name'].str.upper()\n",
    "chip['item_name'].str.contains('CHICKEN').astype(int)"
   ]
  },
  {
   "cell_type": "code",
   "execution_count": null,
   "metadata": {},
   "outputs": [],
   "source": []
  }
 ]
}